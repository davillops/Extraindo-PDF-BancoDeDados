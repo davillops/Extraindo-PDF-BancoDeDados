{
 "cells": [
  {
   "cell_type": "code",
   "execution_count": 8,
   "metadata": {},
   "outputs": [],
   "source": [
    "import psycopg2\n",
    "import pandas as pd"
   ]
  },
  {
   "cell_type": "code",
   "execution_count": 9,
   "metadata": {},
   "outputs": [],
   "source": [
    "database = 'NOME-BANCO-DE-DADOS'\n",
    "host = 'IP-BANCO-DE-DADOS'\n",
    "user = 'USUARIO-DO-BANCO'\n",
    "password = '****'\n",
    "port = 1111 #PORTA-DO-BANCO"
   ]
  },
  {
   "cell_type": "code",
   "execution_count": 10,
   "metadata": {},
   "outputs": [],
   "source": [
    "def conecta_db():\n",
    "    con = psycopg2.connect(host=host,\n",
    "                           port=port,\n",
    "                           database=database,\n",
    "                           user=user,\n",
    "                           password=password)\n",
    "    return con"
   ]
  },
  {
   "cell_type": "code",
   "execution_count": 11,
   "metadata": {},
   "outputs": [],
   "source": [
    "def consultar_db(sql):\n",
    "    con = conecta_db()\n",
    "    cur = con.cursor()\n",
    "    cur.execute(sql)\n",
    "    recset = cur.fetchall()\n",
    "    registros = []\n",
    "    for rec in recset:\n",
    "        registros.append(rec)\n",
    "    con.close()\n",
    "    return registros\n"
   ]
  },
  {
   "cell_type": "code",
   "execution_count": null,
   "metadata": {},
   "outputs": [],
   "source": [
    "sql_select_teste = \"\"\"select COLUNA, COLUNA, COLUNA from TABELA\"\"\"\n",
    "consultar_db(sql_select_teste)"
   ]
  },
  {
   "cell_type": "code",
   "execution_count": 13,
   "metadata": {},
   "outputs": [],
   "source": [
    "df = pd.DataFrame(consultar_db(sql_select_teste), columns=['COLUNA', 'COLUNA', 'COLUNA'])"
   ]
  },
  {
   "cell_type": "code",
   "execution_count": null,
   "metadata": {},
   "outputs": [],
   "source": [
    "df.to_csv('NOME-QUE-VAI-FICAR-O-ARQUIVO.csv')\n",
    "\n",
    "print(df)\n"
   ]
  }
 ],
 "metadata": {
  "kernelspec": {
   "display_name": "Python 3.10.6 64-bit",
   "language": "python",
   "name": "python3"
  },
  "language_info": {
   "codemirror_mode": {
    "name": "ipython",
    "version": 3
   },
   "file_extension": ".py",
   "mimetype": "text/x-python",
   "name": "python",
   "nbconvert_exporter": "python",
   "pygments_lexer": "ipython3",
   "version": "3.10.6"
  },
  "orig_nbformat": 4,
  "vscode": {
   "interpreter": {
    "hash": "694c68d72ef303e12404e8d6547ff2d0a05fe70b448ecbdc941f135e989cb75c"
   }
  }
 },
 "nbformat": 4,
 "nbformat_minor": 2
}
